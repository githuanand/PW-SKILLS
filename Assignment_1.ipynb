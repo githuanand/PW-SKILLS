{
  "nbformat": 4,
  "nbformat_minor": 0,
  "metadata": {
    "colab": {
      "provenance": []
    },
    "kernelspec": {
      "name": "python3",
      "display_name": "Python 3"
    },
    "language_info": {
      "name": "python"
    }
  },
  "cells": [
    {
      "cell_type": "markdown",
      "source": [
        "### Q.1  Explain the key features of Python that make it a popular choice for programming ?\n"
      ],
      "metadata": {
        "id": "Rm0j-CovQjot"
      }
    },
    {
      "cell_type": "markdown",
      "source": [
        "Ans 1:- **Key Features of Python**:-\n",
        "\n",
        "Python is a popular and versatile programming language due to the following key features:\n",
        "\n",
        "1.  Simple Syntax:-\n",
        "\n",
        "Python's syntax is clean and easy to read, making it beginner-friendly."
      ],
      "metadata": {
        "id": "8aQRM6H2Q1sO"
      }
    },
    {
      "cell_type": "code",
      "source": [
        "# Simple variable assignment\n",
        "name = \"Mohan\"\n",
        "print(\"Anand \" + name)\n"
      ],
      "metadata": {
        "colab": {
          "base_uri": "https://localhost:8080/",
          "height": 0
        },
        "id": "09RsTODEQ_ek",
        "outputId": "d606d194-f1b8-4eb4-e89f-381888ec7a50"
      },
      "execution_count": 3,
      "outputs": [
        {
          "output_type": "stream",
          "name": "stdout",
          "text": [
            "Anand Mohan\n"
          ]
        }
      ]
    },
    {
      "cell_type": "markdown",
      "source": [
        "The language's simplicity allows developers to focus more on solving problems than dealing with complex syntax.\n",
        "\n",
        "2.  Interpreted Language:-\n",
        "\n",
        "Python is an interpreted language, meaning code is executed line by line. This makes it easier to debug and allows for platform independence."
      ],
      "metadata": {
        "id": "pB0uqmB_RR5I"
      }
    },
    {
      "cell_type": "code",
      "source": [
        "# Python code can run on any platform without modification\n",
        "print(\"This works on Windows, macOS, and Linux.\")\n"
      ],
      "metadata": {
        "colab": {
          "base_uri": "https://localhost:8080/",
          "height": 0
        },
        "id": "r2B5G_IkRgyw",
        "outputId": "c5d0ac21-4989-450e-b538-0c6027d9c7a6"
      },
      "execution_count": 4,
      "outputs": [
        {
          "output_type": "stream",
          "name": "stdout",
          "text": [
            "This works on Windows, macOS, and Linux.\n"
          ]
        }
      ]
    },
    {
      "cell_type": "markdown",
      "source": [
        "3.  Large Standard Library:-\n",
        "\n",
        "Python comes with a rich standard library that supports many tasks, including file handling, web programming, data analysis, and more."
      ],
      "metadata": {
        "id": "HZCOXwNYRoFH"
      }
    },
    {
      "cell_type": "code",
      "source": [
        "import math\n",
        "print(math.sqrt(16))\n"
      ],
      "metadata": {
        "colab": {
          "base_uri": "https://localhost:8080/",
          "height": 0
        },
        "id": "T-aPQVRnRvAJ",
        "outputId": "c464417d-ed17-4e6c-b286-8fbad43470eb"
      },
      "execution_count": 5,
      "outputs": [
        {
          "output_type": "stream",
          "name": "stdout",
          "text": [
            "4.0\n"
          ]
        }
      ]
    },
    {
      "cell_type": "markdown",
      "source": [
        "4.  Object-Oriented and Functional:-\n",
        "\n",
        "Python supports multiple programming paradigms. It can be used for object-oriented programming (OOP) as well as functional programming."
      ],
      "metadata": {
        "id": "cd6Pgg09R0mF"
      }
    },
    {
      "cell_type": "code",
      "source": [
        "class Person:\n",
        "    def __init__(self, name):\n",
        "        self.name = name\n",
        "\n",
        "    def greet(self):\n",
        "        print(\"Radhe Radhe \" + self.name)\n",
        "\n",
        "person = Person(\"Shree Krishn\")\n",
        "person.greet()\n"
      ],
      "metadata": {
        "colab": {
          "base_uri": "https://localhost:8080/",
          "height": 0
        },
        "id": "q3sTuFuIR7dd",
        "outputId": "e2aaa46f-c4e4-49a1-cbc3-72fcafc63d8e"
      },
      "execution_count": 9,
      "outputs": [
        {
          "output_type": "stream",
          "name": "stdout",
          "text": [
            "Radhe Radhe Shree Krishn\n"
          ]
        }
      ]
    },
    {
      "cell_type": "markdown",
      "source": [
        "### Question 2.\n",
        "\n",
        "Describe the role of predefined keywords in Python and provide examples of how they are used in a program\n"
      ],
      "metadata": {
        "id": "k4thak44SHS4"
      }
    },
    {
      "cell_type": "markdown",
      "source": [
        "Answer  2.\n",
        "Role of Predefined Keywords in Python:-\n",
        "\n",
        "Predefined keywords are reserved words in Python that have special meaning in the language. These cannot be used as variable names or identifiers.\n",
        "\n",
        "Examples of common Python keywords include:\n",
        "\n",
        "1.  if: Used for conditional statements.\n",
        "2.  def: Used to define functions.\n",
        "3.  else: Used for alternative conditions.\n",
        "4.  for: Used for loops.\n",
        "5.  return: Used to return a value from a function"
      ],
      "metadata": {
        "id": "14BjEvvuSS3S"
      }
    },
    {
      "cell_type": "code",
      "source": [
        "# Defining a function using 'def'\n",
        "def greet(name):\n",
        "    if name:\n",
        "        print(\"Radhe Radhe, \" + name)\n",
        "    else:\n",
        "        print(\"Radhe, Shyam\")\n",
        "\n",
        "greet(\"Shree Radhe\")\n"
      ],
      "metadata": {
        "colab": {
          "base_uri": "https://localhost:8080/",
          "height": 0
        },
        "id": "hDT6fVqSTFV9",
        "outputId": "d1629c55-53fb-4b20-e27d-1a777911bf24"
      },
      "execution_count": 12,
      "outputs": [
        {
          "output_type": "stream",
          "name": "stdout",
          "text": [
            "Radhe Radhe, Shree Radhe\n"
          ]
        }
      ]
    },
    {
      "cell_type": "markdown",
      "source": [
        "In this code:-\n",
        "\n",
        "1.  def defines a function.\n",
        "2.  if checks the condition.\n",
        "3.  else is used for alternative logic."
      ],
      "metadata": {
        "id": "xKEJeilvTb4B"
      }
    },
    {
      "cell_type": "markdown",
      "source": [
        "### Question 3:-\n",
        "Compare and contrast mutable and immutable objects in Python with examples."
      ],
      "metadata": {
        "id": "A53gMzCGTkcQ"
      }
    },
    {
      "cell_type": "markdown",
      "source": [
        "Answer 3. Mutable vs Immutable Objects in Python:-\n",
        "\n",
        "Python distinguishes between mutable and immutable objects.\n",
        "Understanding this distinction is important for managing memory and object behavior.\n",
        "\n",
        "Mutable Objects:\n",
        "These objects can be changed after creation.\n",
        "Common examples: lists, dictionaries, sets."
      ],
      "metadata": {
        "id": "VjnjpCp0TurU"
      }
    },
    {
      "cell_type": "code",
      "source": [
        "# Mutable object: List\n",
        "my_list = [1, 2, 3]\n",
        "print(my_list)\n",
        "my_list[0] = 4  # Modifying the list at 0th Index\n",
        "print(my_list)  # Output: [4, 2, 3]\n"
      ],
      "metadata": {
        "colab": {
          "base_uri": "https://localhost:8080/",
          "height": 0
        },
        "id": "gLZD-MCqTxLi",
        "outputId": "696798ed-7ecc-4a2a-d0b2-14fb231e9996"
      },
      "execution_count": 16,
      "outputs": [
        {
          "output_type": "stream",
          "name": "stdout",
          "text": [
            "[1, 2, 3]\n",
            "[4, 2, 3]\n"
          ]
        }
      ]
    },
    {
      "cell_type": "markdown",
      "source": [
        "Immutable Objects:\n",
        "These objects cannot be changed after creation.\n",
        "Common examples: strings, tuples, integers."
      ],
      "metadata": {
        "id": "5xS3MOPZUyXW"
      }
    },
    {
      "cell_type": "code",
      "source": [
        "# Immutable object: String\n",
        "my_string = \"Hello\"\n",
        "print(my_string)\n",
        "\n",
        "my_string[0] = \"h\"  # This will cause an error as strings are immutable\n",
        "print(my_string)\n"
      ],
      "metadata": {
        "colab": {
          "base_uri": "https://localhost:8080/",
          "height": 211
        },
        "id": "K-RTUBkMU25F",
        "outputId": "d56e9512-1f3c-4145-db75-5701c1812eff"
      },
      "execution_count": 18,
      "outputs": [
        {
          "output_type": "stream",
          "name": "stdout",
          "text": [
            "Hello\n"
          ]
        },
        {
          "output_type": "error",
          "ename": "TypeError",
          "evalue": "'str' object does not support item assignment",
          "traceback": [
            "\u001b[0;31m---------------------------------------------------------------------------\u001b[0m",
            "\u001b[0;31mTypeError\u001b[0m                                 Traceback (most recent call last)",
            "\u001b[0;32m<ipython-input-18-a1109741c488>\u001b[0m in \u001b[0;36m<cell line: 4>\u001b[0;34m()\u001b[0m\n\u001b[1;32m      2\u001b[0m \u001b[0mmy_string\u001b[0m \u001b[0;34m=\u001b[0m \u001b[0;34m\"Hello\"\u001b[0m\u001b[0;34m\u001b[0m\u001b[0;34m\u001b[0m\u001b[0m\n\u001b[1;32m      3\u001b[0m \u001b[0mprint\u001b[0m\u001b[0;34m(\u001b[0m\u001b[0mmy_string\u001b[0m\u001b[0;34m)\u001b[0m\u001b[0;34m\u001b[0m\u001b[0;34m\u001b[0m\u001b[0m\n\u001b[0;32m----> 4\u001b[0;31m \u001b[0mmy_string\u001b[0m\u001b[0;34m[\u001b[0m\u001b[0;36m0\u001b[0m\u001b[0;34m]\u001b[0m \u001b[0;34m=\u001b[0m \u001b[0;34m\"h\"\u001b[0m  \u001b[0;31m# This will cause an error as strings are immutable\u001b[0m\u001b[0;34m\u001b[0m\u001b[0;34m\u001b[0m\u001b[0m\n\u001b[0m\u001b[1;32m      5\u001b[0m \u001b[0mprint\u001b[0m\u001b[0;34m(\u001b[0m\u001b[0mmy_string\u001b[0m\u001b[0;34m)\u001b[0m  \u001b[0;31m# Output: Hello\u001b[0m\u001b[0;34m\u001b[0m\u001b[0;34m\u001b[0m\u001b[0m\n",
            "\u001b[0;31mTypeError\u001b[0m: 'str' object does not support item assignment"
          ]
        }
      ]
    },
    {
      "cell_type": "markdown",
      "source": [
        "Key Difference:-\n",
        "\n",
        " Mutable objects can be altered in place, while immutable objects create new instances when modified."
      ],
      "metadata": {
        "id": "8lJN2vv6VLyf"
      }
    },
    {
      "cell_type": "markdown",
      "source": [
        "### Question 4:-\n",
        "\n",
        "Discuss the different types of operators in Python and provide examples of how they are used ?\n"
      ],
      "metadata": {
        "id": "hsz9FHoMV09k"
      }
    },
    {
      "cell_type": "markdown",
      "source": [
        "1.  Arithmetic Operators:-\n",
        "\n",
        "These operators are used to perform mathematical operations."
      ],
      "metadata": {
        "id": "HpJXoFrmVSeH"
      }
    },
    {
      "cell_type": "code",
      "source": [
        "# Example 1\n",
        "# Arithmetic Operators\n",
        "\n",
        "a = 10\n",
        "b = 3\n",
        "\n",
        "# Addition\n",
        "addition = a + b\n",
        "print(f\"{a} + {b} = {addition}\")\n",
        "\n",
        "# Subtraction\n",
        "subtraction = a - b\n",
        "print(f\"{a} - {b} = {subtraction}\")\n",
        "\n",
        "# Multiplication\n",
        "multiplication = a * b\n",
        "print(f\"{a} * {b} = {multiplication}\")\n",
        "\n",
        "# Division (float)\n",
        "division = a / b\n",
        "print(f\"{a} / {b} = {division}\")\n",
        "\n",
        "# Floor Division\n",
        "floor_division = a // b\n",
        "print(f\"{a} // {b} = {floor_division}\")\n",
        "\n",
        "# Modulus (remainder)\n",
        "modulus = a % b\n",
        "print(f\"{a} % {b} = {modulus}\")\n",
        "\n",
        "# Exponentiation\n",
        "exponentiation = a ** b\n",
        "print(f\"{a} ** {b} = {exponentiation}\")\n"
      ],
      "metadata": {
        "colab": {
          "base_uri": "https://localhost:8080/",
          "height": 0
        },
        "id": "VsjHNtFgVRa2",
        "outputId": "6e120c7f-a33f-40f8-cdd8-40fe79e12219"
      },
      "execution_count": 19,
      "outputs": [
        {
          "output_type": "stream",
          "name": "stdout",
          "text": [
            "10 + 3 = 13\n",
            "10 - 3 = 7\n",
            "10 * 3 = 30\n",
            "10 / 3 = 3.3333333333333335\n",
            "10 // 3 = 3\n",
            "10 % 3 = 1\n",
            "10 ** 3 = 1000\n"
          ]
        }
      ]
    },
    {
      "cell_type": "markdown",
      "source": [
        "2. Comparison Operators:-\n",
        "\n",
        "Comparison operators are used to compare two values and return a boolean result (True or False)."
      ],
      "metadata": {
        "id": "a2taeS5TWG7l"
      }
    },
    {
      "cell_type": "code",
      "source": [
        "# Comparison Operators Example 2\n",
        "\n",
        "a = 5\n",
        "b = 3\n",
        "\n",
        "# Equal to\n",
        "print(f\"{a} == {b}: {a == b}\")  # Output: False\n",
        "\n",
        "# Not equal to\n",
        "print(f\"{a} != {b}: {a != b}\")  # Output: True\n",
        "\n",
        "# Greater than\n",
        "print(f\"{a} > {b}: {a > b}\")    # Output: True\n",
        "\n",
        "# Less than\n",
        "print(f\"{a} < {b}: {a < b}\")    # Output: False\n",
        "\n",
        "# Greater than or equal to\n",
        "print(f\"{a} >= {b}: {a >= b}\")  # Output: True\n",
        "\n",
        "# Less than or equal to\n",
        "print(f\"{a} <= {b}: {a <= b}\")  # Output: False\n"
      ],
      "metadata": {
        "colab": {
          "base_uri": "https://localhost:8080/",
          "height": 0
        },
        "id": "2U432eVxWGYm",
        "outputId": "36744072-98ba-4051-9d4c-0bfd566204d9"
      },
      "execution_count": 20,
      "outputs": [
        {
          "output_type": "stream",
          "name": "stdout",
          "text": [
            "5 == 3: False\n",
            "5 != 3: True\n",
            "5 > 3: True\n",
            "5 < 3: False\n",
            "5 >= 3: True\n",
            "5 <= 3: False\n"
          ]
        }
      ]
    },
    {
      "cell_type": "markdown",
      "source": [
        "3. Logical Operators:-\n",
        "\n",
        "Logical operators are used to combine multiple conditional expressions and return a boolean result."
      ],
      "metadata": {
        "id": "3imj2w3ZWZPH"
      }
    },
    {
      "cell_type": "code",
      "source": [
        "# Logical Operators Example 3\n",
        "\n",
        "a = True\n",
        "b = False\n",
        "\n",
        "# AND operator\n",
        "print(f\"a and b: {a and b}\")  # Output: False\n",
        "\n",
        "# OR operator\n",
        "print(f\"a or b: {a or b}\")   # Output: True\n",
        "\n",
        "# NOT operator\n",
        "print(f\"not a: {not a}\")     # Output: False\n"
      ],
      "metadata": {
        "colab": {
          "base_uri": "https://localhost:8080/",
          "height": 0
        },
        "id": "vkhpI4asWY3p",
        "outputId": "e57f9513-3e7e-4fa0-c816-86aed4561dce"
      },
      "execution_count": 21,
      "outputs": [
        {
          "output_type": "stream",
          "name": "stdout",
          "text": [
            "a and b: False\n",
            "a or b: True\n",
            "not a: False\n"
          ]
        }
      ]
    },
    {
      "cell_type": "markdown",
      "source": [
        "4. Bitwise Operators:-\n",
        "\n",
        "Bitwise operators operate on the binary representations of numbers."
      ],
      "metadata": {
        "id": "5VXENHVBWYmE"
      }
    },
    {
      "cell_type": "code",
      "source": [
        "# Bitwise Operators Example\n",
        "\n",
        "a = 5  # In binary: 101\n",
        "b = 3  # In binary: 011\n",
        "\n",
        "# Bitwise AND\n",
        "print(f\"{a} & {b}: {a & b}\")  # Output: 1 (binary: 001)\n",
        "\n",
        "# Bitwise OR\n",
        "print(f\"{a} | {b}: {a | b}\")  # Output: 7 (binary: 111)\n",
        "\n",
        "# Bitwise XOR\n",
        "print(f\"{a} ^ {b}: {a ^ b}\")  # Output: 6 (binary: 110)\n",
        "\n",
        "# Bitwise NOT\n",
        "print(f\"~{a}: {~a}\")          # Output: -6 (binary: 101 -> ~101 = -110)\n",
        "\n",
        "# Left Shift\n",
        "print(f\"{a} << 1: {a << 1}\")  # Output: 10 (binary: 101 << 1 = 1010)\n",
        "\n",
        "# Right Shift\n",
        "print(f\"{a} >> 1: {a >> 1}\")  # Output: 2 (binary: 101 >> 1 = 10)\n"
      ],
      "metadata": {
        "colab": {
          "base_uri": "https://localhost:8080/",
          "height": 0
        },
        "id": "XYbCzOgkWrFF",
        "outputId": "0e226488-2635-415f-8114-3e58b1a496c6"
      },
      "execution_count": 24,
      "outputs": [
        {
          "output_type": "stream",
          "name": "stdout",
          "text": [
            "5 & 3: 1\n",
            "5 | 3: 7\n",
            "5 ^ 3: 6\n",
            "~5: -6\n",
            "5 << 1: 10\n",
            "5 >> 1: 2\n"
          ]
        }
      ]
    },
    {
      "cell_type": "markdown",
      "source": [
        "5. Assignment Operators:-\n",
        "\n",
        "Assignment operators are used to assign values to variables in different ways."
      ],
      "metadata": {
        "id": "gf0zwYY_Xg-7"
      }
    },
    {
      "cell_type": "code",
      "source": [
        "# Assignment Operators Example\n",
        "\n",
        "a = 10\n",
        "b = 5\n",
        "\n",
        "# Add and assign\n",
        "a += b\n",
        "# a = a + b\n",
        "print(f\"a += b: {a}\")\n",
        " # Output: 15\n",
        "\n",
        "# Subtract and assign\n",
        "a -= b\n",
        "# a = a - b\n",
        "print(f\"a -= b: {a}\")\n",
        "# Output: 10\n",
        "\n",
        "# Multiply and assign\n",
        "a *= b\n",
        "# a = a * b\n",
        "print(f\"a *= b: {a}\")\n",
        "# Output: 50\n",
        "\n",
        "# Divide and assign\n",
        "a /= b\n",
        "# a = a / b\n",
        "print(f\"a /= b: {a}\")\n",
        "# Output: 10.0\n",
        "\n",
        "# Floor divide and assign\n",
        "a //= b\n",
        "# a = a // b\n",
        "print(f\"a //= b: {a}\")\n",
        "# Output: 2\n",
        "\n",
        "# Modulus and assign\n",
        "a %= b\n",
        "# a = a % b\n",
        "print(f\"a %= b: {a}\")\n",
        "# Output: 2\n",
        "\n",
        "# Exponentiate and assign\n",
        "a **= b\n",
        "# a = a ** b\n",
        "print(f\"a **= b: {a}\")\n",
        "# Output: 32\n"
      ],
      "metadata": {
        "colab": {
          "base_uri": "https://localhost:8080/",
          "height": 0
        },
        "id": "V-xigx9CXmEC",
        "outputId": "ac6e8659-fe2b-4a65-ad3a-74d21a7b528b"
      },
      "execution_count": 26,
      "outputs": [
        {
          "output_type": "stream",
          "name": "stdout",
          "text": [
            "a += b: 15\n",
            "a -= b: 10\n",
            "a *= b: 50\n",
            "a /= b: 10.0\n",
            "a //= b: 2.0\n",
            "a %= b: 2.0\n",
            "a **= b: 32.0\n"
          ]
        }
      ]
    },
    {
      "cell_type": "markdown",
      "source": [
        "6. Membership Operators:-\n",
        "\n",
        "Membership operators check if a value is found in a sequence (list, string, tuple, etc.)."
      ],
      "metadata": {
        "id": "gGAMlpONYB3q"
      }
    },
    {
      "cell_type": "code",
      "source": [
        "# Membership Operators Example\n",
        "\n",
        "my_list = [1, 2, 3, 4, 5]\n",
        "\n",
        "# Using 'in'\n",
        "print(f\"3 in my_list: {3 in my_list}\")  # Output: True\n",
        "print(f\"6 in my_list: {6 in my_list}\")  # Output: False\n",
        "\n",
        "# Using 'not in'\n",
        "print(f\"6 not in my_list: {6 not in my_list}\")  # Output: True\n"
      ],
      "metadata": {
        "colab": {
          "base_uri": "https://localhost:8080/",
          "height": 0
        },
        "id": "-OnqR69kYHLy",
        "outputId": "40ad33c0-dcc8-4614-8a20-e47823f87244"
      },
      "execution_count": 27,
      "outputs": [
        {
          "output_type": "stream",
          "name": "stdout",
          "text": [
            "3 in my_list: True\n",
            "6 in my_list: False\n",
            "6 not in my_list: True\n"
          ]
        }
      ]
    },
    {
      "cell_type": "markdown",
      "source": [
        "7. Identity Operators:-\n",
        "\n",
        "These operators are used to compare the memory locations of two objects."
      ],
      "metadata": {
        "id": "xZftIfniYMPd"
      }
    },
    {
      "cell_type": "code",
      "source": [
        "a = [1, 2, 3]\n",
        "b = a\n",
        "c = [1, 2, 3]\n",
        "print(a is b)  # Output: True (both refer to the same object)\n",
        "print(a is c)  # Output: False (different objects in memory)\n"
      ],
      "metadata": {
        "colab": {
          "base_uri": "https://localhost:8080/",
          "height": 0
        },
        "id": "U0E37wHOYTrT",
        "outputId": "b27934ae-132e-4944-e09b-19b2f722a736"
      },
      "execution_count": 28,
      "outputs": [
        {
          "output_type": "stream",
          "name": "stdout",
          "text": [
            "True\n",
            "False\n"
          ]
        }
      ]
    },
    {
      "cell_type": "markdown",
      "source": [
        "8. Ternary (Conditional) Operator:-\n",
        "\n",
        "Python supports a compact way to perform conditional operations using the ternary operator."
      ],
      "metadata": {
        "id": "yyxbrI-JYXjR"
      }
    },
    {
      "cell_type": "code",
      "source": [
        "x = 5\n",
        "y = 10\n",
        "result = x if x < y else y\n",
        "print(result)  # Output: 5\n"
      ],
      "metadata": {
        "colab": {
          "base_uri": "https://localhost:8080/",
          "height": 0
        },
        "id": "nvVii5skYb_A",
        "outputId": "71033e43-15e2-4506-e315-be11966a333c"
      },
      "execution_count": 29,
      "outputs": [
        {
          "output_type": "stream",
          "name": "stdout",
          "text": [
            "5\n"
          ]
        }
      ]
    },
    {
      "cell_type": "markdown",
      "source": [
        "### Question 5:-  \n",
        "Explain the concept of type casting in Python with examples."
      ],
      "metadata": {
        "id": "O8_9DPgTY3Ak"
      }
    },
    {
      "cell_type": "markdown",
      "source": [
        "Concept of Type Casting in Python:-\n",
        "\n",
        "Type casting (or type conversion) in Python refers to the process of converting one data type into another. Python provides two types of type casting:\n",
        "\n",
        "Implicit Type Casting (Automatic Conversion):-\n",
        "\n",
        " This happens automatically when Python converts one data type to another without any explicit request. It usually occurs when the conversion doesn't result in loss of data.\n",
        "\n",
        "Explicit Type Casting (Manual Conversion):-\n",
        "\n",
        "This is done using built-in functions where the programmer explicitly converts one data type to another."
      ],
      "metadata": {
        "id": "FlEunWTBY3lI"
      }
    },
    {
      "cell_type": "markdown",
      "source": [
        "Implicit casting is automatically handled by Python when the type conversion is safe. For example, if you try to add an integer and a float, Python will automatically convert the integer to a float and perform the operation."
      ],
      "metadata": {
        "id": "9xy6PXg0ZHr2"
      }
    },
    {
      "cell_type": "code",
      "source": [
        "# Implicit Type Casting (Automatic Conversion)\n",
        "\n",
        "a = 5         # Integer\n",
        "b = 2.5       # Float\n",
        "\n",
        "# The integer 'a' is implicitly converted to float before the addition.\n",
        "result = a + b\n",
        "print(f\"The result of {a} + {b} is: {result}\")  # Output: 7.5\n",
        "\n",
        "# In this example:\n",
        "# The integer 5 is automatically converted to a float,\n",
        "# and the result is a float (7.5)."
      ],
      "metadata": {
        "colab": {
          "base_uri": "https://localhost:8080/",
          "height": 0
        },
        "id": "uY6IQeb_ZCJV",
        "outputId": "fbf3b20c-0fb5-48a0-9398-3560e66b9e8d"
      },
      "execution_count": 32,
      "outputs": [
        {
          "output_type": "stream",
          "name": "stdout",
          "text": [
            "The result of 5 + 2.5 is: 7.5\n"
          ]
        }
      ]
    },
    {
      "cell_type": "markdown",
      "source": [
        "2.   Explicit Type Casting (Manual Conversion):-\n",
        "\n",
        "Explicit type casting is when the programmer manually converts a variable from one type to another. Python provides built-in functions for this purpose, such as int(), float(), str(), and list().\n",
        "\n",
        "\n",
        "Common Functions for Type Casting:-\n",
        "\n",
        "int(): Converts a value to an integer.\n",
        "float(): Converts a value to a floating-point number.\n",
        "str(): Converts a value to a string.\n",
        "list(): Converts a value to a list."
      ],
      "metadata": {
        "id": "lMUdFB-aZG4n"
      }
    },
    {
      "cell_type": "code",
      "source": [
        "# Explicit Type Casting (Manual Conversion)\n",
        "\n",
        "# Convert a float to an integer (will truncate the decimal part)\n",
        "a = 5.7\n",
        "a_int = int(a)\n",
        "print(f\"Float {a} converted to integer: {a_int}\")  # Output: 5\n",
        "\n",
        "# Convert an integer to a string\n",
        "b = 10\n",
        "b_str = str(b)\n",
        "print(f\"Integer {b} converted to string: '{b_str}'\")  # Output: '10'\n",
        "\n",
        "# Convert an integer to a float\n",
        "c = 7\n",
        "c_float = float(c)\n",
        "print(f\"Integer {c} converted to float: {c_float}\")  # Output: 7.0\n"
      ],
      "metadata": {
        "colab": {
          "base_uri": "https://localhost:8080/",
          "height": 0
        },
        "id": "X4Mdgnn8ZJZT",
        "outputId": "ade16b46-829b-4704-da54-2147bc657728"
      },
      "execution_count": 33,
      "outputs": [
        {
          "output_type": "stream",
          "name": "stdout",
          "text": [
            "Float 5.7 converted to integer: 5\n",
            "Integer 10 converted to string: '10'\n",
            "Integer 7 converted to float: 7.0\n"
          ]
        }
      ]
    },
    {
      "cell_type": "markdown",
      "source": [
        "Type Casting Between Different Data Types\n",
        "\n",
        "Example of Converting a String to Integer:\n"
      ],
      "metadata": {
        "id": "2rg3096RZzne"
      }
    },
    {
      "cell_type": "code",
      "source": [
        "# Convert a string to an integer\n",
        "str_num = \"25\"\n",
        "num = int(str_num)\n",
        "print(f\"String '{str_num}' converted to integer: {num}\")\n"
      ],
      "metadata": {
        "colab": {
          "base_uri": "https://localhost:8080/",
          "height": 0
        },
        "id": "A8Z1r9M_Z7eN",
        "outputId": "d727fc4e-bc0a-4815-fcce-7c853605a1c9"
      },
      "execution_count": 34,
      "outputs": [
        {
          "output_type": "stream",
          "name": "stdout",
          "text": [
            "String '25' converted to integer: 25\n"
          ]
        }
      ]
    },
    {
      "cell_type": "code",
      "source": [
        "# Convert an integer to a string\n",
        "num = 100\n",
        "str_num = str(num)  # Explicit conversion from integer to string\n",
        "print(f\"Integer {num} converted to string: '{str_num}'\")  # Output: '100'\n"
      ],
      "metadata": {
        "colab": {
          "base_uri": "https://localhost:8080/",
          "height": 0
        },
        "id": "b5Tj1LXtaDnQ",
        "outputId": "01a6206a-1916-4892-fe17-8ac814395407"
      },
      "execution_count": 35,
      "outputs": [
        {
          "output_type": "stream",
          "name": "stdout",
          "text": [
            "Integer 100 converted to string: '100'\n"
          ]
        }
      ]
    },
    {
      "cell_type": "markdown",
      "source": [
        "Error in Type Casting\n",
        "If you try to cast a value to a type that is incompatible,\n",
        "\n",
        "Python will raise a ```\n",
        "ValueError\n",
        "```"
      ],
      "metadata": {
        "id": "RpF17iApaNtA"
      }
    },
    {
      "cell_type": "code",
      "source": [
        "# Trying to convert a non-numeric string to an integer\n",
        "str_value = \"Hello\"\n",
        "try:\n",
        "    num = int(str_value)  # This will raise an error\n",
        "except ValueError as e:\n",
        "    print(f\"Error: {e}\")\n"
      ],
      "metadata": {
        "colab": {
          "base_uri": "https://localhost:8080/",
          "height": 0
        },
        "id": "cdaa3gylaZDp",
        "outputId": "89f1da9f-16f2-417f-feef-2f31d32c1581"
      },
      "execution_count": 36,
      "outputs": [
        {
          "output_type": "stream",
          "name": "stdout",
          "text": [
            "Error: invalid literal for int() with base 10: 'Hello'\n"
          ]
        }
      ]
    },
    {
      "cell_type": "markdown",
      "source": [
        "### Question 6:-  \n",
        "How do conditional statements work in Python? Illustrate with examples"
      ],
      "metadata": {
        "id": "ZF5rT0nMalGC"
      }
    },
    {
      "cell_type": "markdown",
      "source": [
        "Conditional statements in Python allow the program to execute certain blocks of code based on whether a condition is True or False. This is how we control the flow of execution in a program based on certain conditions.\n",
        "\n",
        "Python has the following types of conditional statements:\n",
        "\n",
        "* if statement:\n",
        "\n",
        "It tests a condition and executes a block of code if the condition is True.\n",
        "\n",
        "* if-else statement:\n",
        "\n",
        "It tests a condition and executes one block of code if the condition is True, and another block if the condition is False.\n",
        "\n",
        "* if-elif-else statement:\n",
        "\n",
        "It checks multiple conditions and executes the corresponding block of code for the first condition that evaluates to True. If no condition is True, it executes the else block.\n",
        "\n"
      ],
      "metadata": {
        "id": "2IntHJN1amUO"
      }
    },
    {
      "cell_type": "code",
      "source": [
        "# Using if statement\n",
        "age = 18\n",
        "\n",
        "if age >= 18:\n",
        "    print(\"You are eligible to vote.\")\n",
        "    # This will print because the condition is True\n"
      ],
      "metadata": {
        "colab": {
          "base_uri": "https://localhost:8080/",
          "height": 0
        },
        "id": "t73uzww0a_yQ",
        "outputId": "83680ddb-2e3e-4c21-c918-dfb709a0a419"
      },
      "execution_count": 37,
      "outputs": [
        {
          "output_type": "stream",
          "name": "stdout",
          "text": [
            "You are eligible to vote.\n"
          ]
        }
      ]
    },
    {
      "cell_type": "code",
      "source": [
        "# Using if-else statement\n",
        "age = 16\n",
        "\n",
        "if age >= 18:\n",
        "    print(\"You are eligible to vote.\")\n",
        "else:\n",
        "    print(\"You are not eligible to vote.\")\n",
        "    # This will print because the condition is False\n"
      ],
      "metadata": {
        "colab": {
          "base_uri": "https://localhost:8080/",
          "height": 0
        },
        "id": "car815dibCDN",
        "outputId": "24340041-bcf2-4f3d-ecca-3eb44c2a101f"
      },
      "execution_count": 38,
      "outputs": [
        {
          "output_type": "stream",
          "name": "stdout",
          "text": [
            "You are not eligible to vote.\n"
          ]
        }
      ]
    },
    {
      "cell_type": "code",
      "source": [
        "# Using if-elif-else statement\n",
        "marks = 85\n",
        "\n",
        "if marks >= 90:\n",
        "    print(\"Grade: A\")\n",
        "elif marks >= 75:\n",
        "    print(\"Grade: B\")\n",
        "     # This will print because the condition is True\n",
        "elif marks >= 50:\n",
        "    print(\"Grade: C\")\n",
        "else:\n",
        "    print(\"Grade: D\")\n"
      ],
      "metadata": {
        "colab": {
          "base_uri": "https://localhost:8080/",
          "height": 0
        },
        "id": "JAE5xkcxbF_A",
        "outputId": "90e4255f-54e2-48b7-f680-e6906498a932"
      },
      "execution_count": 39,
      "outputs": [
        {
          "output_type": "stream",
          "name": "stdout",
          "text": [
            "Grade: B\n"
          ]
        }
      ]
    },
    {
      "cell_type": "code",
      "source": [
        "# Nested if statement\n",
        "age = 20\n",
        "is_student = True\n",
        "\n",
        "if age >= 18:\n",
        "    if is_student:\n",
        "        print(\"Eligible for student discount.\")\n",
        "         # This will print because both conditions are True\n",
        "    else:\n",
        "        print(\"Not eligible for student discount.\")\n",
        "else:\n",
        "    print(\"Not eligible for any discount.\")\n"
      ],
      "metadata": {
        "colab": {
          "base_uri": "https://localhost:8080/",
          "height": 0
        },
        "id": "YM4OB7PjbOet",
        "outputId": "cdfcbefc-582c-4e73-c8a0-a6310718d92e"
      },
      "execution_count": 40,
      "outputs": [
        {
          "output_type": "stream",
          "name": "stdout",
          "text": [
            "Eligible for student discount.\n"
          ]
        }
      ]
    },
    {
      "cell_type": "code",
      "source": [
        "# Ternary operator (conditional expression)\n",
        "age = 21\n",
        "status = \"Eligible to vote\" if age >= 18 else \"Not eligible to vote\"\n",
        "print(status)  # Output: Eligible to vote\n"
      ],
      "metadata": {
        "colab": {
          "base_uri": "https://localhost:8080/",
          "height": 0
        },
        "id": "W2AegYXGbQn9",
        "outputId": "34c2e71b-df81-4e7f-ba86-1c480676b574"
      },
      "execution_count": 41,
      "outputs": [
        {
          "output_type": "stream",
          "name": "stdout",
          "text": [
            "Eligible to vote\n"
          ]
        }
      ]
    },
    {
      "cell_type": "markdown",
      "source": [
        "### Question 7:-\n",
        "\n",
        " Describe the different types of loops in Python and their use cases with examples."
      ],
      "metadata": {
        "id": "T_-huH8LbmTk"
      }
    },
    {
      "cell_type": "markdown",
      "source": [
        "Loops in Python:- Loops in Python are used to repeatedly execute a block of code as long as a condition is met.\n",
        "\n",
        "Python provides two main types of loops:-\n",
        "\n",
        "1.  for loop: Used to iterate over a sequence (like a list, tuple, string, or range).\n",
        "\n",
        "2.  while loop: Repeats a block of code as long as a specified condition is True.\n"
      ],
      "metadata": {
        "id": "1vCfFqcxbcDe"
      }
    },
    {
      "cell_type": "markdown",
      "source": [
        "The for loop is used when you want to iterate over a sequence (e.g., a list, tuple, string) or a range of numbers. It is ideal for situations where the number of iterations is known or you need to iterate through all items in a collection.\n",
        "\n",
        "Use Case:-\n",
        "\n",
        " Iterating over elements in a collection (list, tuple, string, etc.) or a range of numbers."
      ],
      "metadata": {
        "id": "_36DewgacmQ7"
      }
    },
    {
      "cell_type": "code",
      "source": [
        "# Using for loop to iterate over a list\n",
        "fruits = [\"apple\", \"banana\", \"cherry\"]\n",
        "\n",
        "for fruit in fruits:\n",
        "    print(fruit)\n"
      ],
      "metadata": {
        "colab": {
          "base_uri": "https://localhost:8080/",
          "height": 0
        },
        "id": "GDq4wcXTcpcB",
        "outputId": "020c993a-92e8-43f3-9de9-f6c4c21fa7e3"
      },
      "execution_count": 42,
      "outputs": [
        {
          "output_type": "stream",
          "name": "stdout",
          "text": [
            "apple\n",
            "banana\n",
            "cherry\n"
          ]
        }
      ]
    },
    {
      "cell_type": "markdown",
      "source": [
        "The for loop iterates over each element in the list fruits and prints it.\n"
      ],
      "metadata": {
        "id": "0Fh7OPQ9ctQw"
      }
    },
    {
      "cell_type": "code",
      "source": [
        "# Using for loop with range() to repeat an action a specified number of times\n",
        "for i in range(5):  # Will iterate 5 times, with i taking values 0 to 4\n",
        "    print(i)"
      ],
      "metadata": {
        "colab": {
          "base_uri": "https://localhost:8080/",
          "height": 0
        },
        "id": "IAxQcrjgc17B",
        "outputId": "0ba88004-c9d6-40b8-d251-b5fc68c8b115"
      },
      "execution_count": 43,
      "outputs": [
        {
          "output_type": "stream",
          "name": "stdout",
          "text": [
            "0\n",
            "1\n",
            "2\n",
            "3\n",
            "4\n"
          ]
        }
      ]
    },
    {
      "cell_type": "markdown",
      "source": [
        "```\n",
        "range(5)\n",
        "```\n",
        "generates numbers from 0 to 4, and the for loop iterates through these numbers.\n",
        "\n",
        "\n",
        "\n",
        "\n"
      ],
      "metadata": {
        "id": "aUncxUYrc6m6"
      }
    },
    {
      "cell_type": "markdown",
      "source": [
        " while Loop:-\n",
        "\n",
        "The while loop repeatedly executes a block of code as long as the specified condition evaluates to True. It is useful when the number of iterations is not predetermined and the loop should continue as long as the condition holds.\n",
        "\n",
        "Use Case:-\n",
        "\n",
        " When you don’t know the number of iterations in advance, but you need to repeat an action until a condition is met."
      ],
      "metadata": {
        "id": "LOerUYi3dJCq"
      }
    },
    {
      "cell_type": "code",
      "source": [
        "# Using while loop to print numbers from 1 to 5\n",
        "count = 1\n",
        "while count <= 5:\n",
        "    print(count)\n",
        "    count += 1  # Increment count to avoid infinite loop\n"
      ],
      "metadata": {
        "colab": {
          "base_uri": "https://localhost:8080/",
          "height": 0
        },
        "id": "3uZ5zbLlc4aW",
        "outputId": "2ea6aa00-a398-4d3d-916d-a91eb55373b2"
      },
      "execution_count": 44,
      "outputs": [
        {
          "output_type": "stream",
          "name": "stdout",
          "text": [
            "1\n",
            "2\n",
            "3\n",
            "4\n",
            "5\n"
          ]
        }
      ]
    },
    {
      "cell_type": "markdown",
      "source": [
        "The loop continues executing as long as count is less than or equal to 5. The count is incremented by 1 on each iteration, ensuring that the loop eventually stops."
      ],
      "metadata": {
        "id": "pN2APN00dVQ_"
      }
    },
    {
      "cell_type": "code",
      "source": [
        "# Example with a condition to break the loop:\n",
        "# Using while loop to ask for user input until they enter \"exit\"\n",
        "while True:\n",
        "    user_input = input(\"Enter something (or 'exit' to stop): \")\n",
        "    if user_input == \"exit\":\n",
        "        print(\"Exiting the loop.\")\n",
        "        break  # Exit the loop when \"exit\" is entered\n",
        "    else:\n",
        "        print(f\"You entered: {user_input}\")\n",
        "\n"
      ],
      "metadata": {
        "colab": {
          "base_uri": "https://localhost:8080/",
          "height": 0
        },
        "id": "w_RD1y7vdUtk",
        "outputId": "7b067849-cd1e-4557-bc99-9d860375ba39"
      },
      "execution_count": 45,
      "outputs": [
        {
          "output_type": "stream",
          "name": "stdout",
          "text": [
            "Enter something (or 'exit' to stop): Anand\n",
            "You entered: Anand\n",
            "Enter something (or 'exit' to stop): exit\n",
            "Exiting the loop.\n"
          ]
        }
      ]
    },
    {
      "cell_type": "markdown",
      "source": [
        "The loop will continue to run indefinitely until the user types \"exit\", at which point the break statement is executed, ending the loop."
      ],
      "metadata": {
        "id": "bPi5DdL2dif7"
      }
    },
    {
      "cell_type": "markdown",
      "source": [
        "Nested Loops\n",
        "You can also use loops inside other loops, which are known as nested loops. Nested loops are used when you need to perform repetitive tasks within another repetitive task."
      ],
      "metadata": {
        "id": "ZwRDpcGRdmBV"
      }
    },
    {
      "cell_type": "code",
      "source": [
        "# Nested for loop to print a multiplication table\n",
        "for i in range(1, 4):\n",
        "    for j in range(1, 4):\n",
        "        print(f\"{i} * {j} = {i * j}\")\n"
      ],
      "metadata": {
        "colab": {
          "base_uri": "https://localhost:8080/",
          "height": 0
        },
        "id": "xJ_BstdndmpX",
        "outputId": "4cac4363-61cd-43d1-a109-f576b7726833"
      },
      "execution_count": 46,
      "outputs": [
        {
          "output_type": "stream",
          "name": "stdout",
          "text": [
            "1 * 1 = 1\n",
            "1 * 2 = 2\n",
            "1 * 3 = 3\n",
            "2 * 1 = 2\n",
            "2 * 2 = 4\n",
            "2 * 3 = 6\n",
            "3 * 1 = 3\n",
            "3 * 2 = 6\n",
            "3 * 3 = 9\n"
          ]
        }
      ]
    },
    {
      "cell_type": "markdown",
      "source": [
        "Loop Control Statements\n",
        "\n",
        "Python also provides loop control statements that allow you to control the flow of loops:\n",
        "\n",
        "break:\n",
        "\n",
        "Exits the loop prematurely, even if the loop condition is still True.\n",
        "\n",
        "continue:\n",
        "\n",
        "Skips the current iteration and continues with the next iteration.\n",
        "pass: Does nothing and is used as a placeholder."
      ],
      "metadata": {
        "id": "CD8HihfKdtHL"
      }
    },
    {
      "cell_type": "code",
      "source": [
        "# Using break and continue in a loop\n",
        "for i in range(1, 10):\n",
        "    if i == 5:\n",
        "        break  # Exit the loop when i is 5\n",
        "    elif i == 3:\n",
        "        continue  # Skip the iteration when i is 3\n",
        "    print(i)\n"
      ],
      "metadata": {
        "colab": {
          "base_uri": "https://localhost:8080/",
          "height": 0
        },
        "id": "hFARLwHudy3z",
        "outputId": "668b58eb-dfb3-45c3-b5e7-5b02570f1c2a"
      },
      "execution_count": 47,
      "outputs": [
        {
          "output_type": "stream",
          "name": "stdout",
          "text": [
            "1\n",
            "2\n",
            "4\n"
          ]
        }
      ]
    }
  ]
}